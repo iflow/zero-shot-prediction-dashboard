{
 "cells": [
  {
   "cell_type": "markdown",
   "source": [
    "Run docker"
   ],
   "metadata": {
    "collapsed": false
   }
  },
  {
   "cell_type": "code",
   "execution_count": 1,
   "outputs": [
    {
     "name": "stdout",
     "output_type": "stream",
     "text": [
      "#1 [project-covid-dashboard internal] load build definition from dockerfile"
     ]
    },
    {
     "name": "stderr",
     "output_type": "stream",
     "text": [
      "\n",
      "Use 'docker scan' to run Snyk tests against images to find vulnerabilities and learn how to fix them\n",
      "Network project_default  Creating\n",
      "Network project_default  Created\n",
      "Container project-covid-dashboard-1  Creating"
     ]
    },
    {
     "name": "stdout",
     "output_type": "stream",
     "text": [
      "\n",
      "#1 transferring dockerfile: 32B 0.0s done\n",
      "#1 DONE 0.0s\n",
      "\n",
      "#2 [project-gradio-app internal] load build definition from dockerfile\n",
      "#2 transferring dockerfile: 32B 0.0s done\n",
      "#2 DONE 0.1s\n",
      "\n",
      "#3 [project-gradio-app internal] load .dockerignore\n",
      "#3 transferring context: 2B done\n",
      "#3 DONE 0.0s\n",
      "\n",
      "#4 [project-covid-dashboard internal] load .dockerignore\n",
      "#4 transferring context: 2B done\n",
      "#4 DONE 0.0s\n",
      "\n",
      "#5 [project-covid-dashboard internal] load metadata for docker.io/library/python:3.8\n",
      "#5 DONE 4.3s\n",
      "\n",
      "#6 [project-covid-dashboard 1/4] FROM docker.io/library/python:3.8@sha256:5333090e8d33566d9a2f312b2ee390b031c33d2e47526a061628504ecd65ae0c\n",
      "#6 DONE 0.0s\n",
      "\n",
      "#7 [project-covid-dashboard internal] load build context\n",
      "#7 transferring context: 270B done\n",
      "#7 DONE 0.0s\n",
      "\n",
      "#8 [project-covid-dashboard 3/4] WORKDIR /app\n",
      "#8 CACHED\n",
      "\n",
      "#9 [project-covid-dashboard 2/4] COPY . /app\n",
      "#9 CACHED\n",
      "\n",
      "#10 [project-covid-dashboard 4/4] RUN pip install -r requirements.txt\n",
      "#10 CACHED\n",
      "\n",
      "#11 [project-gradio-app internal] load metadata for docker.io/library/python:3.8-slim\n",
      "#11 DONE 4.5s\n",
      "\n",
      "#12 [project-covid-dashboard] exporting to image\n",
      "#12 exporting layers done\n",
      "#12 writing image sha256:ffcd76aaf86fccb2ed8d56c0379573059555d27cb36181b2b6db78e0a961be2f done\n",
      "#12 naming to docker.io/library/project-covid-dashboard done\n",
      "#12 DONE 0.0s\n",
      "\n",
      "#13 [project-gradio-app 1/5] FROM docker.io/library/python:3.8-slim@sha256:3c9d672c4563e89bc1c7f8a89d36a50725a50105b330db63f374b12f78783828\n",
      "#13 DONE 0.0s\n",
      "\n",
      "#14 [project-gradio-app internal] load build context\n",
      "#14 transferring context: 2.41kB 0.0s done\n",
      "#14 DONE 0.0s\n",
      "\n",
      "#15 [project-gradio-app 2/5] WORKDIR /app\n",
      "#15 CACHED\n",
      "\n",
      "#16 [project-gradio-app 3/5] COPY requirements.txt .\n",
      "#16 DONE 0.0s\n",
      "\n",
      "#17 [project-gradio-app 4/5] RUN pip install -r requirements.txt\n",
      "#17 5.103 Collecting gradio\n",
      "#17 5.277   Downloading gradio-3.16.1-py3-none-any.whl (14.2 MB)\n",
      "#17 8.318      â”�â”�â”�â”�â”�â”�â”�â”�â”�â”�â”�â”�â”�â”�â”�â”�â”�â”�â”�â”�â”�â”�â”�â”�â”�â”�â”�â”�â”�â”�â”�â”�â”�â”�â”�â”�â”�â”�â”�â”� 14.2/14.2 MB 4.7 MB/s eta 0:00:00\n",
      "#17 8.591 Collecting transformers\n",
      "#17 8.625   Downloading transformers-4.25.1-py3-none-any.whl (5.8 MB)\n",
      "#17 9.809      â”�â”�â”�â”�â”�â”�â”�â”�â”�â”�â”�â”�â”�â”�â”�â”�â”�â”�â”�â”�â”�â”�â”�â”�â”�â”�â”�â”�â”�â”�â”�â”�â”�â”�â”�â”�â”�â”�â”�â”� 5.8/5.8 MB 5.0 MB/s eta 0:00:00\n",
      "#17 10.03 Collecting wordcloud\n",
      "#17 10.05   Downloading wordcloud-1.8.2.2-cp38-cp38-manylinux_2_17_x86_64.manylinux2014_x86_64.whl (458 kB)\n",
      "#17 10.17      â”�â”�â”�â”�â”�â”�â”�â”�â”�â”�â”�â”�â”�â”�â”�â”�â”�â”�â”�â”�â”�â”�â”�â”�â”�â”�â”�â”�â”�â”�â”�â”�â”�â”�â”�â”�â”�â”�â”� 459.0/459.0 KB 4.2 MB/s eta 0:00:00\n",
      "#17 10.40 Collecting torch\n",
      "#17 10.42   Downloading torch-1.13.1-cp38-cp38-manylinux1_x86_64.whl (887.4 MB)\n",
      "#17 198.0      â”�â”�â”�â”�â”�â”�â”�â”�â”�â”�â”�â”�â”�â”�â”�â”�â”�â”�â”�â”�â”�â”�â”�â”�â”�â”�â”�â”�â”�â”�â”�â”�â”�â”�â”�â”�â”�â”�â”� 887.4/887.4 MB 1.8 MB/s eta 0:00:00\n",
      "#17 203.5 Collecting pycryptodome\n",
      "#17 203.5   Downloading pycryptodome-3.16.0-cp35-abi3-manylinux_2_5_x86_64.manylinux1_x86_64.manylinux_2_12_x86_64.manylinux2010_x86_64.whl (2.3 MB)\n",
      "#17 204.1      â”�â”�â”�â”�â”�â”�â”�â”�â”�â”�â”�â”�â”�â”�â”�â”�â”�â”�â”�â”�â”�â”�â”�â”�â”�â”�â”�â”�â”�â”�â”�â”�â”�â”�â”�â”�â”�â”�â”�â”� 2.3/2.3 MB 4.3 MB/s eta 0:00:00\n",
      "#17 204.7 Collecting pydantic\n",
      "#17 204.7   Downloading pydantic-1.10.4-cp38-cp38-manylinux_2_17_x86_64.manylinux2014_x86_64.whl (3.2 MB)\n",
      "#17 205.4      â”�â”�â”�â”�â”�â”�â”�â”�â”�â”�â”�â”�â”�â”�â”�â”�â”�â”�â”�â”�â”�â”�â”�â”�â”�â”�â”�â”�â”�â”�â”�â”�â”�â”�â”�â”�â”�â”�â”�â”� 3.2/3.2 MB 4.6 MB/s eta 0:00:00\n",
      "#17 206.5 Collecting pillow\n",
      "#17 206.5   Downloading Pillow-9.4.0-cp38-cp38-manylinux_2_28_x86_64.whl (3.4 MB)\n",
      "#17 207.2      â”�â”�â”�â”�â”�â”�â”�â”�â”�â”�â”�â”�â”�â”�â”�â”�â”�â”�â”�â”�â”�â”�â”�â”�â”�â”�â”�â”�â”�â”�â”�â”�â”�â”�â”�â”�â”�â”�â”�â”� 3.4/3.4 MB 4.9 MB/s eta 0:00:00\n",
      "#17 207.5 Collecting fsspec\n",
      "#17 207.5   Downloading fsspec-2022.11.0-py3-none-any.whl (139 kB)\n",
      "#17 207.6      â”�â”�â”�â”�â”�â”�â”�â”�â”�â”�â”�â”�â”�â”�â”�â”�â”�â”�â”�â”�â”�â”�â”�â”�â”�â”�â”�â”�â”�â”�â”�â”�â”�â”�â”�â”�â”�â”�â”� 139.5/139.5 KB 4.1 MB/s eta 0:00:00\n",
      "#17 208.6 Collecting orjson\n",
      "#17 208.6   Downloading orjson-3.8.5-cp38-cp38-manylinux_2_28_x86_64.whl (140 kB)\n",
      "#17 208.7      â”�â”�â”�â”�â”�â”�â”�â”�â”�â”�â”�â”�â”�â”�â”�â”�â”�â”�â”�â”�â”�â”�â”�â”�â”�â”�â”�â”�â”�â”�â”�â”�â”�â”�â”�â”�â”�â”�â”� 140.6/140.6 KB 3.0 MB/s eta 0:00:00\n",
      "#17 209.0 Collecting fastapi\n",
      "#17 209.0   Downloading fastapi-0.89.1-py3-none-any.whl (55 kB)\n",
      "#17 209.0      â”�â”�â”�â”�â”�â”�â”�â”�â”�â”�â”�â”�â”�â”�â”�â”�â”�â”�â”�â”�â”�â”�â”�â”�â”�â”�â”�â”�â”�â”�â”�â”�â”�â”�â”�â”�â”�â”�â”�â”� 55.8/55.8 KB 3.0 MB/s eta 0:00:00\n",
      "#17 209.2 Collecting pydub\n",
      "#17 209.2   Downloading pydub-0.25.1-py2.py3-none-any.whl (32 kB)\n",
      "#17 209.4 Collecting altair>=4.2.0\n",
      "#17 209.4   Downloading altair-4.2.0-py3-none-any.whl (812 kB)\n",
      "#17 209.6      â”�â”�â”�â”�â”�â”�â”�â”�â”�â”�â”�â”�â”�â”�â”�â”�â”�â”�â”�â”�â”�â”�â”�â”�â”�â”�â”�â”�â”�â”�â”�â”�â”�â”�â”�â”�â”�â”�â”� 812.8/812.8 KB 4.6 MB/s eta 0:00:00\n",
      "#17 209.8 Collecting pyyaml\n",
      "#17 209.8   Downloading PyYAML-6.0-cp38-cp38-manylinux_2_5_x86_64.manylinux1_x86_64.manylinux_2_12_x86_64.manylinux2010_x86_64.whl (701 kB)\n",
      "#17 210.0      â”�â”�â”�â”�â”�â”�â”�â”�â”�â”�â”�â”�â”�â”�â”�â”�â”�â”�â”�â”�â”�â”�â”�â”�â”�â”�â”�â”�â”�â”�â”�â”�â”�â”�â”�â”�â”�â”�â”� 701.2/701.2 KB 4.6 MB/s eta 0:00:00\n",
      "#17 210.1 Collecting httpx\n",
      "#17 210.1   Downloading httpx-0.23.3-py3-none-any.whl (71 kB)\n",
      "#17 210.2      â”�â”�â”�â”�â”�â”�â”�â”�â”�â”�â”�â”�â”�â”�â”�â”�â”�â”�â”�â”�â”�â”�â”�â”�â”�â”�â”�â”�â”�â”�â”�â”�â”�â”�â”�â”�â”�â”�â”�â”� 71.5/71.5 KB 2.4 MB/s eta 0:00:00\n",
      "#17 210.7 Collecting matplotlib\n",
      "#17 210.7   Downloading matplotlib-3.6.3-cp38-cp38-manylinux_2_12_x86_64.manylinux2010_x86_64.whl (9.4 MB)\n",
      "#17 212.6      â”�â”�â”�â”�â”�â”�â”�â”�â”�â”�â”�â”�â”�â”�â”�â”�â”�â”�â”�â”�â”�â”�â”�â”�â”�â”�â”�â”�â”�â”�â”�â”�â”�â”�â”�â”�â”�â”�â”�â”� 9.4/9.4 MB 4.9 MB/s eta 0:00:00\n",
      "#17 212.9 Collecting jinja2\n",
      "#17 212.9   Downloading Jinja2-3.1.2-py3-none-any.whl (133 kB)\n",
      "#17 212.9      â”�â”�â”�â”�â”�â”�â”�â”�â”�â”�â”�â”�â”�â”�â”�â”�â”�â”�â”�â”�â”�â”�â”�â”�â”�â”�â”�â”�â”�â”�â”�â”�â”�â”�â”�â”�â”�â”�â”� 133.1/133.1 KB 3.8 MB/s eta 0:00:00\n",
      "#17 213.1 Collecting markupsafe\n",
      "#17 213.2   Downloading MarkupSafe-2.1.1-cp38-cp38-manylinux_2_17_x86_64.manylinux2014_x86_64.whl (25 kB)\n",
      "#17 214.2 Collecting aiohttp\n",
      "#17 214.2   Downloading aiohttp-3.8.3-cp38-cp38-manylinux_2_17_x86_64.manylinux2014_x86_64.whl (1.0 MB)\n",
      "#17 214.4      â”�â”�â”�â”�â”�â”�â”�â”�â”�â”�â”�â”�â”�â”�â”�â”�â”�â”�â”�â”�â”�â”�â”�â”�â”�â”�â”�â”�â”�â”�â”�â”�â”�â”�â”�â”�â”�â”�â”�â”� 1.0/1.0 MB 5.1 MB/s eta 0:00:00\n",
      "#17 215.3 Collecting numpy\n",
      "#17 215.3   Downloading numpy-1.24.1-cp38-cp38-manylinux_2_17_x86_64.manylinux2014_x86_64.whl (17.3 MB)\n",
      "#17 219.3      â”�â”�â”�â”�â”�â”�â”�â”�â”�â”�â”�â”�â”�â”�â”�â”�â”�â”�â”�â”�â”�â”�â”�â”�â”�â”�â”�â”�â”�â”�â”�â”�â”�â”�â”�â”�â”�â”�â”�â”� 17.3/17.3 MB 4.3 MB/s eta 0:00:00\n",
      "#17 219.6 Collecting python-multipart\n",
      "#17 219.6   Downloading python-multipart-0.0.5.tar.gz (32 kB)\n",
      "#17 219.6   Preparing metadata (setup.py): started\n",
      "#17 220.4   Preparing metadata (setup.py): finished with status 'done'\n",
      "#17 220.7 Collecting websockets>=10.0\n",
      "#17 220.7   Downloading websockets-10.4-cp38-cp38-manylinux_2_5_x86_64.manylinux1_x86_64.manylinux_2_17_x86_64.manylinux2014_x86_64.whl (106 kB)\n",
      "#17 220.8      â”�â”�â”�â”�â”�â”�â”�â”�â”�â”�â”�â”�â”�â”�â”�â”�â”�â”�â”�â”�â”�â”�â”�â”�â”�â”�â”�â”�â”�â”�â”�â”�â”�â”�â”�â”�â”�â”�â”� 107.0/107.0 KB 3.8 MB/s eta 0:00:00\n",
      "#17 221.0 Collecting requests\n",
      "#17 221.0   Downloading requests-2.28.2-py3-none-any.whl (62 kB)\n",
      "#17 221.0      â”�â”�â”�â”�â”�â”�â”�â”�â”�â”�â”�â”�â”�â”�â”�â”�â”�â”�â”�â”�â”�â”�â”�â”�â”�â”�â”�â”�â”�â”�â”�â”�â”�â”�â”�â”�â”�â”�â”�â”� 62.8/62.8 KB 3.3 MB/s eta 0:00:00\n",
      "#17 221.8 Collecting pandas\n",
      "#17 221.8   Downloading pandas-1.5.2-cp38-cp38-manylinux_2_17_x86_64.manylinux2014_x86_64.whl (12.2 MB)\n",
      "#17 224.3      â”�â”�â”�â”�â”�â”�â”�â”�â”�â”�â”�â”�â”�â”�â”�â”�â”�â”�â”�â”�â”�â”�â”�â”�â”�â”�â”�â”�â”�â”�â”�â”�â”�â”�â”�â”�â”�â”�â”�â”� 12.2/12.2 MB 4.8 MB/s eta 0:00:00\n",
      "#17 224.6 Collecting markdown-it-py[linkify,plugins]\n",
      "#17 224.6   Downloading markdown_it_py-2.1.0-py3-none-any.whl (84 kB)\n",
      "#17 224.7      â”�â”�â”�â”�â”�â”�â”�â”�â”�â”�â”�â”�â”�â”�â”�â”�â”�â”�â”�â”�â”�â”�â”�â”�â”�â”�â”�â”�â”�â”�â”�â”�â”�â”�â”�â”�â”�â”�â”�â”� 84.5/84.5 KB 4.2 MB/s eta 0:00:00\n",
      "#17 224.8 Collecting ffmpy\n",
      "#17 224.8   Downloading ffmpy-0.3.0.tar.gz (4.8 kB)\n",
      "#17 224.8   Preparing metadata (setup.py): started\n",
      "#17 225.2   Preparing metadata (setup.py): finished with status 'done'\n",
      "#17 225.4 Collecting uvicorn\n",
      "#17 225.4   Downloading uvicorn-0.20.0-py3-none-any.whl (56 kB)\n",
      "#17 225.4      â”�â”�â”�â”�â”�â”�â”�â”�â”�â”�â”�â”�â”�â”�â”�â”�â”�â”�â”�â”�â”�â”�â”�â”�â”�â”�â”�â”�â”�â”�â”�â”�â”�â”�â”�â”�â”�â”�â”�â”� 56.9/56.9 KB 3.7 MB/s eta 0:00:00\n",
      "#17 225.5 Collecting typing-extensions\n",
      "#17 225.5   Downloading typing_extensions-4.4.0-py3-none-any.whl (26 kB)\n",
      "#17 226.6 Collecting filelock\n",
      "#17 226.6   Downloading filelock-3.9.0-py3-none-any.whl (9.7 kB)\n",
      "#17 226.8 Collecting packaging>=20.0\n",
      "#17 226.8   Downloading packaging-23.0-py3-none-any.whl (42 kB)\n",
      "#17 226.8      â”�â”�â”�â”�â”�â”�â”�â”�â”�â”�â”�â”�â”�â”�â”�â”�â”�â”�â”�â”�â”�â”�â”�â”�â”�â”�â”�â”�â”�â”�â”�â”�â”�â”�â”�â”�â”�â”�â”�â”� 42.7/42.7 KB 3.4 MB/s eta 0:00:00\n",
      "#17 228.4 Collecting regex!=2019.12.17\n",
      "#17 228.4   Downloading regex-2022.10.31-cp38-cp38-manylinux_2_17_x86_64.manylinux2014_x86_64.whl (772 kB)\n",
      "#17 228.6      â”�â”�â”�â”�â”�â”�â”�â”�â”�â”�â”�â”�â”�â”�â”�â”�â”�â”�â”�â”�â”�â”�â”�â”�â”�â”�â”�â”�â”�â”�â”�â”�â”�â”�â”�â”�â”�â”�â”� 772.3/772.3 KB 5.0 MB/s eta 0:00:00\n",
      "#17 229.1 Collecting tokenizers!=0.11.3,<0.14,>=0.11.1\n",
      "#17 229.2   Downloading tokenizers-0.13.2-cp38-cp38-manylinux_2_17_x86_64.manylinux2014_x86_64.whl (7.6 MB)\n",
      "#17 230.8      â”�â”�â”�â”�â”�â”�â”�â”�â”�â”�â”�â”�â”�â”�â”�â”�â”�â”�â”�â”�â”�â”�â”�â”�â”�â”�â”�â”�â”�â”�â”�â”�â”�â”�â”�â”�â”�â”�â”�â”� 7.6/7.6 MB 4.7 MB/s eta 0:00:00\n",
      "#17 231.1 Collecting huggingface-hub<1.0,>=0.10.0\n",
      "#17 231.1   Downloading huggingface_hub-0.11.1-py3-none-any.whl (182 kB)\n",
      "#17 231.1      â”�â”�â”�â”�â”�â”�â”�â”�â”�â”�â”�â”�â”�â”�â”�â”�â”�â”�â”�â”�â”�â”�â”�â”�â”�â”�â”�â”�â”�â”�â”�â”�â”�â”�â”�â”�â”�â”�â”� 182.4/182.4 KB 4.2 MB/s eta 0:00:00\n",
      "#17 231.4 Collecting tqdm>=4.27\n",
      "#17 231.4   Downloading tqdm-4.64.1-py2.py3-none-any.whl (78 kB)\n",
      "#17 231.4      â”�â”�â”�â”�â”�â”�â”�â”�â”�â”�â”�â”�â”�â”�â”�â”�â”�â”�â”�â”�â”�â”�â”�â”�â”�â”�â”�â”�â”�â”�â”�â”�â”�â”�â”�â”�â”�â”�â”�â”� 78.5/78.5 KB 3.1 MB/s eta 0:00:00\n",
      "#17 231.7 Collecting nvidia-cuda-nvrtc-cu11==11.7.99\n",
      "#17 231.7   Downloading nvidia_cuda_nvrtc_cu11-11.7.99-2-py3-none-manylinux1_x86_64.whl (21.0 MB)\n",
      "#17 236.3      â”�â”�â”�â”�â”�â”�â”�â”�â”�â”�â”�â”�â”�â”�â”�â”�â”�â”�â”�â”�â”�â”�â”�â”�â”�â”�â”�â”�â”�â”�â”�â”�â”�â”�â”�â”�â”�â”�â”�â”� 21.0/21.0 MB 4.4 MB/s eta 0:00:00\n",
      "#17 236.6 Collecting nvidia-cublas-cu11==11.10.3.66\n",
      "#17 236.6   Downloading nvidia_cublas_cu11-11.10.3.66-py3-none-manylinux1_x86_64.whl (317.1 MB)\n",
      "#17 304.9      â”�â”�â”�â”�â”�â”�â”�â”�â”�â”�â”�â”�â”�â”�â”�â”�â”�â”�â”�â”�â”�â”�â”�â”�â”�â”�â”�â”�â”�â”�â”�â”�â”�â”�â”�â”�â”�â”�â”� 317.1/317.1 MB 3.3 MB/s eta 0:00:00\n",
      "#17 307.1 Collecting nvidia-cuda-runtime-cu11==11.7.99\n",
      "#17 307.2   Downloading nvidia_cuda_runtime_cu11-11.7.99-py3-none-manylinux1_x86_64.whl (849 kB)\n",
      "#17 307.4      â”�â”�â”�â”�â”�â”�â”�â”�â”�â”�â”�â”�â”�â”�â”�â”�â”�â”�â”�â”�â”�â”�â”�â”�â”�â”�â”�â”�â”�â”�â”�â”�â”�â”�â”�â”�â”�â”�â”� 849.3/849.3 KB 3.4 MB/s eta 0:00:00\n",
      "#17 307.6 Collecting nvidia-cudnn-cu11==8.5.0.96\n",
      "#17 307.6   Downloading nvidia_cudnn_cu11-8.5.0.96-2-py3-none-manylinux1_x86_64.whl (557.1 MB)\n",
      "#17 441.0      â”�â”�â”�â”�â”�â”�â”�â”�â”�â”�â”�â”�â”�â”�â”�â”�â”�â”�â”�â”�â”�â”�â”�â”�â”�â”�â”�â”�â”�â”�â”�â”�â”�â”�â”�â”�â”� 557.1/557.1 MB 736.9 kB/s eta 0:00:00\n",
      "#17 443.8 Requirement already satisfied: setuptools in /usr/local/lib/python3.8/site-packages (from nvidia-cublas-cu11==11.10.3.66->torch->-r requirements.txt (line 4)) (57.5.0)\n",
      "#17 443.9 Requirement already satisfied: wheel in /usr/local/lib/python3.8/site-packages (from nvidia-cublas-cu11==11.10.3.66->torch->-r requirements.txt (line 4)) (0.38.4)\n",
      "#17 444.2 Collecting jsonschema>=3.0\n",
      "#17 444.2   Downloading jsonschema-4.17.3-py3-none-any.whl (90 kB)\n",
      "#17 444.4      â”�â”�â”�â”�â”�â”�â”�â”�â”�â”�â”�â”�â”�â”�â”�â”�â”�â”�â”�â”�â”�â”�â”�â”�â”�â”�â”�â”�â”�â”�â”�â”�â”�â”�â”�â”�â”�â”�â”� 90.4/90.4 KB 368.3 kB/s eta 0:00:00\n",
      "#17 444.6 Collecting toolz\n",
      "#17 444.6   Downloading toolz-0.12.0-py3-none-any.whl (55 kB)\n"
     ]
    },
    {
     "name": "stderr",
     "output_type": "stream",
     "text": [
      "\n",
      "Container project-gradio-app-1  Creating\n",
      "Container project-gradio-app-1  Created\n",
      "Container project-covid-dashboard-1  Created\n",
      "Container project-covid-dashboard-1  Starting\n",
      "Container project-gradio-app-1  Starting\n",
      "Container project-covid-dashboard-1  Started\n",
      "Container project-gradio-app-1  Started\n"
     ]
    }
   ],
   "source": [
    "!docker-compose up -d"
   ],
   "metadata": {
    "collapsed": false
   }
  },
  {
   "cell_type": "markdown",
   "source": [
    "Stop docker"
   ],
   "metadata": {
    "collapsed": false
   }
  },
  {
   "cell_type": "code",
   "execution_count": null,
   "outputs": [],
   "source": [
    "!docker-compose stop"
   ],
   "metadata": {
    "collapsed": false
   }
  }
 ],
 "metadata": {
  "kernelspec": {
   "display_name": "Python 3",
   "language": "python",
   "name": "python3"
  },
  "language_info": {
   "codemirror_mode": {
    "name": "ipython",
    "version": 2
   },
   "file_extension": ".py",
   "mimetype": "text/x-python",
   "name": "python",
   "nbconvert_exporter": "python",
   "pygments_lexer": "ipython2",
   "version": "2.7.6"
  }
 },
 "nbformat": 4,
 "nbformat_minor": 0
}
