{
 "cells": [
  {
   "cell_type": "markdown",
   "source": [
    "Run docker"
   ],
   "metadata": {
    "collapsed": false
   }
  },
  {
   "cell_type": "code",
   "execution_count": 1,
   "outputs": [
    {
     "name": "stdout",
     "output_type": "stream",
     "text": [
      "#1 [project-covid-dashboard internal] load build definition from dockerfile\n",
      "#1 transferring dockerfile: 30B 0.0s\n",
      "#1 transferring dockerfile: 32B 0.0s done\n",
      "#1 DONE 0.1s\n",
      "\n",
      "#2 [project-gradio-app internal] load build definition from dockerfile\n",
      "#2 transferring dockerfile: 32B 0.0s done\n",
      "#2 DONE 0.1s\n",
      "\n",
      "#3 [project-covid-dashboard internal] load .dockerignore\n",
      "#3 transferring context: 2B 0.0s done\n",
      "#3 DONE 0.2s\n",
      "\n",
      "#4 [project-gradio-app internal] load .dockerignore\n",
      "#4 transferring context: 2B 0.0s done\n",
      "#4 DONE 0.1s\n",
      "\n",
      "#5 [project-covid-dashboard internal] load metadata for docker.io/library/python:3.8\n",
      "#5 DONE 6.0s\n",
      "\n",
      "#6 [project-gradio-app internal] load metadata for docker.io/library/python:3.8-slim\n",
      "#6 DONE 5.8s\n",
      "\n",
      "#7 [project-gradio-app internal] load build context\n",
      "#7 transferring context: 63B 0.0s done\n",
      "#7 DONE 0.1s\n",
      "\n",
      "#8 [project-covid-dashboard internal] load build context\n",
      "#8 DONE 0.0s\n",
      "\n",
      "#9 [project-covid-dashboard 1/4] FROM docker.io/library/python:3.8@sha256:384984842fd4e406ec08c1cebc0a55a136206f0312fb120bc2b6268989d72af7\n",
      "#9 resolve docker.io/library/python:3.8@sha256:384984842fd4e406ec08c1cebc0a55a136206f0312fb120bc2b6268989d72af7\n",
      "#9 resolve docker.io/library/python:3.8@sha256:384984842fd4e406ec08c1cebc0a55a136206f0312fb120bc2b6268989d72af7 0.1s done\n",
      "#9 ...\n",
      "\n",
      "#8 [project-covid-dashboard internal] load build context\n",
      "#8 transferring context: 270B 0.0s done\n",
      "#8 DONE 0.1s\n",
      "\n",
      "#9 [project-covid-dashboard 1/4] FROM docker.io/library/python:3.8@sha256:384984842fd4e406ec08c1cebc0a55a136206f0312fb120bc2b6268989d72af7\n",
      "#9 sha256:da8341a525e85dd7182fa79a781831088cb6a5a6b0d3831656c87896688de2cc 8.61kB / 8.61kB done\n",
      "#9 sha256:384984842fd4e406ec08c1cebc0a55a136206f0312fb120bc2b6268989d72af7 1.86kB / 1.86kB done\n"
     ]
    },
    {
     "name": "stderr",
     "output_type": "stream",
     "text": [
      "\n",
      "Use 'docker scan' to run Snyk tests against images to find vulnerabilities and learn how to fix them\n",
      "Network project_default  Creating\n",
      "Network project_default  Created\n",
      "Container project-covid-dashboard-1  Creating\n",
      "Container project-gradio-app-1  Creating\n",
      "Container project-covid-dashboard-1  Created\n",
      "Container project-gradio-app-1  Created\n",
      "Container project-covid-dashboard-1  Starting\n",
      "Container project-gradio-app-1  Starting\n",
      "Container project-gradio-app-1  Started\n",
      "Container project-covid-dashboard-1  Started\n"
     ]
    },
    {
     "name": "stdout",
     "output_type": "stream",
     "text": [
      "#9 sha256:ad04f1301289b5cfc766eb92a474b94ca71f78a6cfbce3739cde03cfdb5eb599 2.22kB / 2.22kB done\n",
      "#9 sha256:a17a230113da9ed5eb128a796328c99f2e2c6eebc8ca0d378ef43449e2b2ed1f 0B / 17.39MB 1.2s\n",
      "#9 sha256:dffd8aedb8511c25055b1f0d958d4ff0e94bec2ef70f2505863a98e97a73d4b3 0B / 235B 1.4s\n",
      "#9 sha256:a17a230113da9ed5eb128a796328c99f2e2c6eebc8ca0d378ef43449e2b2ed1f 2.10MB / 17.39MB 1.8s\n",
      "#9 sha256:a17a230113da9ed5eb128a796328c99f2e2c6eebc8ca0d378ef43449e2b2ed1f 3.15MB / 17.39MB 2.1s\n",
      "#9 sha256:dffd8aedb8511c25055b1f0d958d4ff0e94bec2ef70f2505863a98e97a73d4b3 235B / 235B 2.0s\n",
      "#9 sha256:977619fbc754049098d4d55208a95758fe9b054d7f8499825ae9bb42b78532bc 0B / 2.89MB 2.1s\n",
      "#9 sha256:a17a230113da9ed5eb128a796328c99f2e2c6eebc8ca0d378ef43449e2b2ed1f 4.19MB / 17.39MB 2.3s\n",
      "#9 sha256:dffd8aedb8511c25055b1f0d958d4ff0e94bec2ef70f2505863a98e97a73d4b3 235B / 235B 2.1s done\n",
      "#9 sha256:a17a230113da9ed5eb128a796328c99f2e2c6eebc8ca0d378ef43449e2b2ed1f 5.24MB / 17.39MB 2.6s\n",
      "#9 sha256:977619fbc754049098d4d55208a95758fe9b054d7f8499825ae9bb42b78532bc 1.05MB / 2.89MB 2.6s\n",
      "#9 sha256:a17a230113da9ed5eb128a796328c99f2e2c6eebc8ca0d378ef43449e2b2ed1f 6.29MB / 17.39MB 2.8s\n",
      "#9 sha256:977619fbc754049098d4d55208a95758fe9b054d7f8499825ae9bb42b78532bc 2.10MB / 2.89MB 2.8s\n",
      "#9 sha256:a17a230113da9ed5eb128a796328c99f2e2c6eebc8ca0d378ef43449e2b2ed1f 7.34MB / 17.39MB 3.1s\n",
      "#9 sha256:977619fbc754049098d4d55208a95758fe9b054d7f8499825ae9bb42b78532bc 2.89MB / 2.89MB 3.1s done\n",
      "#9 sha256:a17a230113da9ed5eb128a796328c99f2e2c6eebc8ca0d378ef43449e2b2ed1f 8.39MB / 17.39MB 3.2s\n",
      "#9 sha256:a17a230113da9ed5eb128a796328c99f2e2c6eebc8ca0d378ef43449e2b2ed1f 9.44MB / 17.39MB 3.4s\n",
      "#9 sha256:a17a230113da9ed5eb128a796328c99f2e2c6eebc8ca0d378ef43449e2b2ed1f 10.49MB / 17.39MB 3.6s\n",
      "#9 sha256:a17a230113da9ed5eb128a796328c99f2e2c6eebc8ca0d378ef43449e2b2ed1f 13.63MB / 17.39MB 3.9s\n",
      "#9 sha256:a17a230113da9ed5eb128a796328c99f2e2c6eebc8ca0d378ef43449e2b2ed1f 14.68MB / 17.39MB 4.0s\n",
      "#9 sha256:a17a230113da9ed5eb128a796328c99f2e2c6eebc8ca0d378ef43449e2b2ed1f 16.78MB / 17.39MB 4.2s\n",
      "#9 sha256:a17a230113da9ed5eb128a796328c99f2e2c6eebc8ca0d378ef43449e2b2ed1f 17.39MB / 17.39MB 4.2s done\n",
      "#9 extracting sha256:a17a230113da9ed5eb128a796328c99f2e2c6eebc8ca0d378ef43449e2b2ed1f\n",
      "#9 extracting sha256:a17a230113da9ed5eb128a796328c99f2e2c6eebc8ca0d378ef43449e2b2ed1f 2.7s done\n",
      "#9 extracting sha256:dffd8aedb8511c25055b1f0d958d4ff0e94bec2ef70f2505863a98e97a73d4b3 done\n",
      "#9 ...\n",
      "\n",
      "#10 [project-gradio-app 2/5] WORKDIR /app\n",
      "#10 DONE 1.1s\n",
      "\n",
      "#9 [project-covid-dashboard 1/4] FROM docker.io/library/python:3.8@sha256:384984842fd4e406ec08c1cebc0a55a136206f0312fb120bc2b6268989d72af7\n",
      "#9 extracting sha256:977619fbc754049098d4d55208a95758fe9b054d7f8499825ae9bb42b78532bc\n",
      "#9 ...\n",
      "\n",
      "#11 [project-gradio-app 1/5] FROM docker.io/library/python:3.8-slim@sha256:cb29e6c698261ba263f0742524fd60dfd8a6b548fb6477a1305816e386baa4ee\n",
      "#11 resolve docker.io/library/python:3.8-slim@sha256:cb29e6c698261ba263f0742524fd60dfd8a6b548fb6477a1305816e386baa4ee 0.1s done\n",
      "#11 sha256:cb29e6c698261ba263f0742524fd60dfd8a6b548fb6477a1305816e386baa4ee 1.86kB / 1.86kB done\n",
      "#11 sha256:7c11ba98b104bed6dec12a3b10cb59b8dd1fa47ae1bae1ced6b609d5cacca8fc 1.37kB / 1.37kB done\n",
      "#11 sha256:78ac37b98c998f234b6deb4a783773f7d0c2af904d685e26d585a87678454b3f 7.56kB / 7.56kB done\n",
      "#11 sha256:5cdfec308b8a1e11f9a3d4a068fa971735fc485f9d6373289f0e8debf9e341e3 11.33MB / 11.33MB 1.8s done\n",
      "#11 sha256:bf3e69e5b4f670ded07d76ddf9055f0030fe326638643307a21aaaf15d72861a 3.18MB / 3.18MB 1.2s done\n",
      "#11 sha256:f1dcd44e226a4f42836225bed83e67859b8282cf91d105acf1033d314f1137af 235B / 235B 0.9s done\n",
      "#11 extracting sha256:5cdfec308b8a1e11f9a3d4a068fa971735fc485f9d6373289f0e8debf9e341e3 1.8s done\n",
      "#11 extracting sha256:f1dcd44e226a4f42836225bed83e67859b8282cf91d105acf1033d314f1137af done\n",
      "#11 extracting sha256:bf3e69e5b4f670ded07d76ddf9055f0030fe326638643307a21aaaf15d72861a 1.1s done\n",
      "#11 ...\n",
      "\n",
      "#9 [project-covid-dashboard 1/4] FROM docker.io/library/python:3.8@sha256:384984842fd4e406ec08c1cebc0a55a136206f0312fb120bc2b6268989d72af7\n",
      "#9 ...\n",
      "\n",
      "#12 [project-gradio-app 3/5] COPY requirements.txt .\n",
      "#12 DONE 0.4s\n",
      "\n",
      "#9 [project-covid-dashboard 1/4] FROM docker.io/library/python:3.8@sha256:384984842fd4e406ec08c1cebc0a55a136206f0312fb120bc2b6268989d72af7\n",
      "#9 extracting sha256:977619fbc754049098d4d55208a95758fe9b054d7f8499825ae9bb42b78532bc 0.8s done\n",
      "#9 DONE 10.1s\n",
      "\n",
      "#13 [project-covid-dashboard 2/4] COPY . /app\n",
      "#13 DONE 0.3s\n",
      "\n",
      "#14 [project-covid-dashboard 3/4] WORKDIR /app\n",
      "#14 DONE 0.2s\n",
      "\n",
      "#15 [project-gradio-app 4/5] RUN pip install -r requirements.txt\n",
      "#15 ...\n",
      "\n",
      "#16 [project-covid-dashboard 4/4] RUN pip install -r requirements.txt\n",
      "#16 ...\n",
      "\n",
      "#15 [project-gradio-app 4/5] RUN pip install -r requirements.txt\n",
      "#15 8.990 Collecting gradio\n",
      "#15 9.180   Downloading gradio-3.16.2-py3-none-any.whl (14.2 MB)\n",
      "#15 ...\n",
      "\n",
      "#16 [project-covid-dashboard 4/4] RUN pip install -r requirements.txt\n",
      "#16 9.052 Collecting matplotlib\n",
      "#16 9.349   Downloading matplotlib-3.6.3-cp38-cp38-manylinux_2_12_x86_64.manylinux2010_x86_64.whl (9.4 MB)\n",
      "#16 20.24      â”�â”�â”�â”�â”�â”�â”�â”�â”�â”�â”�â”�â”�â”�â”�â”�â”�â”�â”�â”�â”�â”�â”�â”�â”�â”�â”�â”�â”�â”�â”�â”�â”�â”�â”�â”�â”�â”�â”�â”� 9.4/9.4 MB 862.0 kB/s eta 0:00:00\n",
      "#16 21.44 Collecting seaborn\n",
      "#16 21.50   Downloading seaborn-0.12.2-py3-none-any.whl (293 kB)\n",
      "#16 22.26      â”�â”�â”�â”�â”�â”�â”�â”�â”�â”�â”�â”�â”�â”�â”�â”�â”�â”�â”�â”�â”�â”�â”�â”�â”�â”�â”�â”�â”�â”�â”�â”�â”�â”�â”�â”�â”� 293.3/293.3 KB 421.4 kB/s eta 0:00:00\n",
      "#16 ...\n"
     ]
    }
   ],
   "source": [
    "!docker-compose up -d"
   ],
   "metadata": {
    "collapsed": false
   }
  },
  {
   "cell_type": "markdown",
   "source": [
    "Stop docker"
   ],
   "metadata": {
    "collapsed": false
   }
  },
  {
   "cell_type": "code",
   "execution_count": null,
   "outputs": [],
   "source": [
    "!docker-compose stop"
   ],
   "metadata": {
    "collapsed": false
   }
  }
 ],
 "metadata": {
  "kernelspec": {
   "display_name": "Python 3",
   "language": "python",
   "name": "python3"
  },
  "language_info": {
   "codemirror_mode": {
    "name": "ipython",
    "version": 2
   },
   "file_extension": ".py",
   "mimetype": "text/x-python",
   "name": "python",
   "nbconvert_exporter": "python",
   "pygments_lexer": "ipython2",
   "version": "2.7.6"
  }
 },
 "nbformat": 4,
 "nbformat_minor": 0
}
