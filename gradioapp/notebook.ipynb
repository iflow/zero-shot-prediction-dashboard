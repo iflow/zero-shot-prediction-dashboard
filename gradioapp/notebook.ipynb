{
 "cells": [
  {
   "cell_type": "code",
   "execution_count": 1,
   "outputs": [
    {
     "data": {
      "text/plain": "<transformers.pipelines.zero_shot_image_classification.ZeroShotImageClassificationPipeline at 0x1ae6ca07100>"
     },
     "execution_count": 1,
     "metadata": {},
     "output_type": "execute_result"
    }
   ],
   "source": [
    "# Import model\n",
    "from transformers import pipeline\n",
    "\n",
    "pipe= pipeline(task= \"zero-shot-image-classification\", model= \"openai/clip-vit-large-patch14-336\")\n",
    "pipe"
   ],
   "metadata": {
    "collapsed": false
   }
  },
  {
   "cell_type": "code",
   "execution_count": 4,
   "outputs": [
    {
     "data": {
      "text/plain": "[{'score': 0.3333601653575897, 'label': 'dog'},\n {'score': 0.3081190288066864, 'label': 'lion'},\n {'score': 0.23664647340774536, 'label': 'rabbit'},\n {'score': 0.11083435267210007, 'label': 'cat'},\n {'score': 0.011039966717362404, 'label': 'cheetah'}]"
     },
     "execution_count": 4,
     "metadata": {},
     "output_type": "execute_result"
    }
   ],
   "source": [
    "image_to_classify = \"pics/sample0.jpg\"\n",
    "labels_for_classification =  [\"cat\", \"dog\", \"lion\", \"cheetah\", \"rabbit\"]\n",
    "scores = pipe(image_to_classify, candidate_labels = labels_for_classification)\n",
    "scores"
   ],
   "metadata": {
    "collapsed": false
   }
  },
  {
   "cell_type": "code",
   "execution_count": 2,
   "outputs": [
    {
     "data": {
      "text/plain": "  0%|          | 0.00/13.9k [00:00<?, ?B/s]",
      "application/vnd.jupyter.widget-view+json": {
       "version_major": 2,
       "version_minor": 0,
       "model_id": "15aa356e960b4fa28622d9d0371d20fc"
      }
     },
     "metadata": {},
     "output_type": "display_data"
    },
    {
     "data": {
      "text/plain": "  0%|          | 0.00/60.6k [00:00<?, ?B/s]",
      "application/vnd.jupyter.widget-view+json": {
       "version_major": 2,
       "version_minor": 0,
       "model_id": "9f271bd5cb3045a8a5553d3b4d35f3fb"
      }
     },
     "metadata": {},
     "output_type": "display_data"
    },
    {
     "data": {
      "text/plain": "  0%|          | 0.00/59.3k [00:00<?, ?B/s]",
      "application/vnd.jupyter.widget-view+json": {
       "version_major": 2,
       "version_minor": 0,
       "model_id": "e872ac62f5964107bc92463ed7dcb16e"
      }
     },
     "metadata": {},
     "output_type": "display_data"
    },
    {
     "data": {
      "text/plain": "  0%|          | 0.00/52.2k [00:00<?, ?B/s]",
      "application/vnd.jupyter.widget-view+json": {
       "version_major": 2,
       "version_minor": 0,
       "model_id": "53adbb60438d4ca1b555abc28b08f478"
      }
     },
     "metadata": {},
     "output_type": "display_data"
    },
    {
     "data": {
      "text/plain": "  0%|          | 0.00/90.8k [00:00<?, ?B/s]",
      "application/vnd.jupyter.widget-view+json": {
       "version_major": 2,
       "version_minor": 0,
       "model_id": "419ab67c951343e0b09a2636eec0574a"
      }
     },
     "metadata": {},
     "output_type": "display_data"
    },
    {
     "data": {
      "text/plain": "  0%|          | 0.00/40.6k [00:00<?, ?B/s]",
      "application/vnd.jupyter.widget-view+json": {
       "version_major": 2,
       "version_minor": 0,
       "model_id": "df368990d49145dc8b0e35c69b13a574"
      }
     },
     "metadata": {},
     "output_type": "display_data"
    },
    {
     "data": {
      "text/plain": "  0%|          | 0.00/24.4k [00:00<?, ?B/s]",
      "application/vnd.jupyter.widget-view+json": {
       "version_major": 2,
       "version_minor": 0,
       "model_id": "843a3bca29bf442eb3405e246efd9557"
      }
     },
     "metadata": {},
     "output_type": "display_data"
    },
    {
     "data": {
      "text/plain": "  0%|          | 0.00/24.3k [00:00<?, ?B/s]",
      "application/vnd.jupyter.widget-view+json": {
       "version_major": 2,
       "version_minor": 0,
       "model_id": "d8e5ab929b2a43f7b00a5244ed51ab0b"
      }
     },
     "metadata": {},
     "output_type": "display_data"
    },
    {
     "data": {
      "text/plain": "  0%|          | 0.00/63.2k [00:00<?, ?B/s]",
      "application/vnd.jupyter.widget-view+json": {
       "version_major": 2,
       "version_minor": 0,
       "model_id": "53a226f738d8437db6cc04ba7479b2b8"
      }
     },
     "metadata": {},
     "output_type": "display_data"
    },
    {
     "data": {
      "text/plain": "  0%|          | 0.00/63.8k [00:00<?, ?B/s]",
      "application/vnd.jupyter.widget-view+json": {
       "version_major": 2,
       "version_minor": 0,
       "model_id": "0bf2f8648b6e4bfd9efc446eda19cafb"
      }
     },
     "metadata": {},
     "output_type": "display_data"
    },
    {
     "name": "stdout",
     "output_type": "stream",
     "text": [
      "Running on local URL:  http://127.0.0.1:7860\n",
      "\n",
      "To create a public link, set `share=True` in `launch()`.\n"
     ]
    },
    {
     "data": {
      "text/plain": "<IPython.core.display.HTML object>",
      "text/html": "<div><iframe src=\"http://127.0.0.1:7860/\" width=\"100%\" height=\"500\" allow=\"autoplay; camera; microphone; clipboard-read; clipboard-write;\" frameborder=\"0\" allowfullscreen></iframe></div>"
     },
     "metadata": {},
     "output_type": "display_data"
    },
    {
     "data": {
      "text/plain": "  0%|          | 0.00/40.9k [00:00<?, ?B/s]",
      "application/vnd.jupyter.widget-view+json": {
       "version_major": 2,
       "version_minor": 0,
       "model_id": "d06a41b5c0c24e3590d37b1956372029"
      }
     },
     "metadata": {},
     "output_type": "display_data"
    },
    {
     "data": {
      "text/plain": "  0%|          | 0.00/29.6k [00:00<?, ?B/s]",
      "application/vnd.jupyter.widget-view+json": {
       "version_major": 2,
       "version_minor": 0,
       "model_id": "1dce5393b63b45c380cabcb921f61047"
      }
     },
     "metadata": {},
     "output_type": "display_data"
    },
    {
     "data": {
      "text/plain": "  0%|          | 0.00/6.65k [00:00<?, ?B/s]",
      "application/vnd.jupyter.widget-view+json": {
       "version_major": 2,
       "version_minor": 0,
       "model_id": "43eac8588d58411e893bc78e4a5a8d1f"
      }
     },
     "metadata": {},
     "output_type": "display_data"
    },
    {
     "data": {
      "text/plain": "  0%|          | 0.00/85.4k [00:00<?, ?B/s]",
      "application/vnd.jupyter.widget-view+json": {
       "version_major": 2,
       "version_minor": 0,
       "model_id": "bbffb4df5ccc4804a51b5c803dc20f15"
      }
     },
     "metadata": {},
     "output_type": "display_data"
    },
    {
     "data": {
      "text/plain": "  0%|          | 0.00/48.8k [00:00<?, ?B/s]",
      "application/vnd.jupyter.widget-view+json": {
       "version_major": 2,
       "version_minor": 0,
       "model_id": "dd4b67d71f5148ed94b5e138811a3e62"
      }
     },
     "metadata": {},
     "output_type": "display_data"
    },
    {
     "data": {
      "text/plain": "  0%|          | 0.00/111k [00:00<?, ?B/s]",
      "application/vnd.jupyter.widget-view+json": {
       "version_major": 2,
       "version_minor": 0,
       "model_id": "0b01303dcb474178961d69448cca1ea0"
      }
     },
     "metadata": {},
     "output_type": "display_data"
    },
    {
     "data": {
      "text/plain": "  0%|          | 0.00/73.4k [00:00<?, ?B/s]",
      "application/vnd.jupyter.widget-view+json": {
       "version_major": 2,
       "version_minor": 0,
       "model_id": "aaf56180d5484e99a7b891b0f5f8c928"
      }
     },
     "metadata": {},
     "output_type": "display_data"
    },
    {
     "data": {
      "text/plain": "  0%|          | 0.00/26.1k [00:00<?, ?B/s]",
      "application/vnd.jupyter.widget-view+json": {
       "version_major": 2,
       "version_minor": 0,
       "model_id": "de184e65818e4f9ba0275f80fdd8687f"
      }
     },
     "metadata": {},
     "output_type": "display_data"
    },
    {
     "data": {
      "text/plain": "  0%|          | 0.00/15.4k [00:00<?, ?B/s]",
      "application/vnd.jupyter.widget-view+json": {
       "version_major": 2,
       "version_minor": 0,
       "model_id": "c258fa68f7a0450585035b5c09988c7a"
      }
     },
     "metadata": {},
     "output_type": "display_data"
    },
    {
     "data": {
      "text/plain": "  0%|          | 0.00/38.7k [00:00<?, ?B/s]",
      "application/vnd.jupyter.widget-view+json": {
       "version_major": 2,
       "version_minor": 0,
       "model_id": "6da7c8af43b240db95f1d7b34a15ddfa"
      }
     },
     "metadata": {},
     "output_type": "display_data"
    },
    {
     "name": "stdout",
     "output_type": "stream",
     "text": [
      "Running on local URL:  http://127.0.0.1:7861\n",
      "\n",
      "To create a public link, set `share=True` in `launch()`.\n"
     ]
    },
    {
     "data": {
      "text/plain": "<IPython.core.display.HTML object>",
      "text/html": "<div><iframe src=\"http://127.0.0.1:7861/\" width=\"100%\" height=\"500\" allow=\"autoplay; camera; microphone; clipboard-read; clipboard-write;\" frameborder=\"0\" allowfullscreen></iframe></div>"
     },
     "metadata": {},
     "output_type": "display_data"
    }
   ],
   "source": [
    "import gradio as gr\n",
    "from transformers import pipeline\n",
    "import torch\n",
    "import os\n",
    "from matplotlib import pyplot as plt\n",
    "from wordcloud import WordCloud\n",
    "import pandas as pd\n",
    "\n",
    "# Download and return list of sample images\n",
    "# from <https://picsum.photos>\n",
    "def downloadDemopics(n=10):\n",
    "    URL= \"https://picsum.photos/600/600\"\n",
    "\n",
    "    if not os.path.exists('pics/'):\n",
    "        os.mkdir('pics/')\n",
    "\n",
    "    for i in range(n):\n",
    "        torch.hub.download_url_to_file(URL, 'pics/sample{}.jpg'.format(i))\n",
    "\n",
    "    demoPics= ['pics/'+file for file in os.listdir(\"pics\")]\n",
    "    return demoPics\n",
    "\n",
    "# create the WordCloud image\n",
    "def getWorldCloud(frequencies):\n",
    "    wordcloud = WordCloud(width=800, height=600, relative_scaling=0.8, background_color='white')\n",
    "\n",
    "    # generate the word cloud\n",
    "    wordcloud.generate_from_frequencies(frequencies)\n",
    "\n",
    "    #plot\n",
    "    # plt.figure(figsize=(16, 12))\n",
    "    # plt.imshow(wordcloud, interpolation='bilinear')\n",
    "    # plt.axis('off')\n",
    "    # plt.show()\n",
    "\n",
    "    # second method with image\n",
    "    image = wordcloud.to_image()\n",
    "    # image.show()\n",
    "    return image\n",
    "\n",
    "# zero-shot-image-classification\n",
    "# pipe= pipeline(task= \"zero-shot-image-classification\", model= \"openai/clip-vit-large-patch14-336\")\n",
    "\n",
    "# model that can do 22k-category classification\n",
    "pipe= pipeline(task= \"image-classification\", model= \"microsoft/beit-base-patch16-224-pt22k-ft22k\")\n",
    "\n",
    "def calc(image_to_classify):\n",
    "\n",
    "    # scores = pipe(image_to_classify= image_to_classify, candidate_labels = labels_for_classification)\n",
    "    scores = pipe(images= image_to_classify)\n",
    "\n",
    "    # transform result\n",
    "    df= pd.DataFrame(scores)\n",
    "    frequ= df[[\"label\", \"score\"]].set_index(\"label\").to_dict()[\"score\"]\n",
    "    image= getWorldCloud(frequ)\n",
    "\n",
    "    return frequ, image\n",
    "\n",
    "# main\n",
    "# if __name__ == '__main__':\n",
    "if True:\n",
    "\n",
    "    # download demo pictures\n",
    "    demoPics= downloadDemopics()\n",
    "\n",
    "    labels= \"cat, dog, lion, cheetah, rabbit\"\n",
    "    examples= [[pic, labels] for pic in demoPics]\n",
    "\n",
    "    demo = gr.Interface(\n",
    "        calc,\n",
    "        # [ # inputs\n",
    "        #     \"image\",\n",
    "        #     \"text\"\n",
    "        # ],\n",
    "        inputs=[gr.Image(type=\"pil\", tool=\"select\", shape=(800,800))],\n",
    "        outputs=[ # outputs\n",
    "            \"label\",\n",
    "            \"image\"\n",
    "        ],\n",
    "        examples= examples,\n",
    "        title= \"Find the things\",\n",
    "        description= \"Please input a picture and a list of labels\",\n",
    "        allow_flagging= \"manual\",\n",
    "        flagging_options= [\"COOL\", \"STRANGE\"]\n",
    "    )\n",
    "\n",
    "    demo.launch()\n",
    "    #demo.launch(server_name='0.0.0.0', server_port=7861)\n"
   ],
   "metadata": {
    "collapsed": false
   }
  },
  {
   "cell_type": "code",
   "execution_count": null,
   "outputs": [],
   "source": [],
   "metadata": {
    "collapsed": false
   }
  }
 ],
 "metadata": {
  "kernelspec": {
   "display_name": "Python 3",
   "language": "python",
   "name": "python3"
  },
  "language_info": {
   "codemirror_mode": {
    "name": "ipython",
    "version": 2
   },
   "file_extension": ".py",
   "mimetype": "text/x-python",
   "name": "python",
   "nbconvert_exporter": "python",
   "pygments_lexer": "ipython2",
   "version": "2.7.6"
  }
 },
 "nbformat": 4,
 "nbformat_minor": 0
}
